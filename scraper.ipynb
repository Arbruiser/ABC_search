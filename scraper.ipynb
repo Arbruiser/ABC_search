{
 "cells": [
  {
   "cell_type": "markdown",
   "metadata": {},
   "source": [
    "#### Install the libraries\n"
   ]
  },
  {
   "cell_type": "code",
   "execution_count": 37,
   "metadata": {},
   "outputs": [],
   "source": [
    "# ! pip install beautifulsoup4\n",
    "# ! pip install requests"
   ]
  },
  {
   "cell_type": "code",
   "execution_count": null,
   "metadata": {},
   "outputs": [],
   "source": [
    "import requests\n",
    "from bs4 import BeautifulSoup\n",
    "\n",
    "# Let's examine the HTML in our example web page\n",
    "\n",
    "url = \"https://www.medicalnewstoday.com/articles/rheumatoid-arthritis-30-minute-aerobic-exercise-help-lower-systolic-blood-pressure\"\n",
    "response = requests.get(url)\n",
    "\n",
    "# Parse the page content\n",
    "soup = BeautifulSoup(response.text, \"html.parser\")\n",
    "\n",
    "soup"
   ]
  },
  {
   "cell_type": "code",
   "execution_count": 39,
   "metadata": {},
   "outputs": [],
   "source": [
    "# Add an empty list to hold our data\n",
    "scraped_data = []"
   ]
  },
  {
   "cell_type": "code",
   "execution_count": 40,
   "metadata": {},
   "outputs": [
    {
     "name": "stdout",
     "output_type": "stream",
     "text": [
      "Rheumatoid arthritis: 30-minute session of exercise may help lower blood pressure\n"
     ]
    }
   ],
   "source": [
    "# Extract the title: 'h1' tag\n",
    "for headline in soup.find_all(\"h1\"):\n",
    "    title = headline.text.strip()\n",
    "    scraped_data.append(title)\n",
    "    print(title)"
   ]
  },
  {
   "cell_type": "code",
   "execution_count": 41,
   "metadata": {},
   "outputs": [
    {
     "name": "stdout",
     "output_type": "stream",
     "text": [
      "One 30-minute session of moderate walking can lower the systolic blood pressure of women with rheumatoid arthritis, according to a new study.\n",
      "Many people with rheumatoid arthritis also experience high blood pressure, which can lead to cardiovascular issues.\n",
      "The authors of the study believe the effect of these exercise sessions can result in a permanent lowering of systolic blood pressure.\n",
      "The study observed no similar reduction in diastolic blood pressure.\n"
     ]
    }
   ],
   "source": [
    "# Extract the list below the title in bold: ul - strong tag\n",
    "for ul in soup.find_all(\"ul\"):\n",
    "    for strong in ul.find_all(\"strong\"):\n",
    "        scraped_data.append(strong.text.strip())\n",
    "        print(strong.text.strip())"
   ]
  },
  {
   "cell_type": "code",
   "execution_count": 42,
   "metadata": {},
   "outputs": [
    {
     "name": "stdout",
     "output_type": "stream",
     "text": [
      "Thirty minutes of moderate physical activity can lower systolic blood pressure in women who have rheumatoid arthritis (RA) at rest, under stress, and generally, according to a new study from the University of São Paulo, Brazil.\n",
      "Hypertension is of particular risk for people with RA, whose risk of dying from cardiovascular disease is 48% higher than that of the general population.\n",
      "Rheumatoid arthritis is an autoimmune inflammatory disease. With RA, one’s immune system incorrectly attacks healthy cells. The result is inflammation — along with painful swelling – often in multiple synovial joints at the same time.\n",
      "Most commonly, RA affects joints in the knees, hands, and wrists. RA can damage the tissue in these joints, causing prolonged or chronic pain, balance issues, and deformity. It can also cause problems in the eyes, heart, and lungs, as well as other parts of the body.\n",
      "The condition is frequently accompanied by hypertension and cardiovascular disease.\n",
      "The direct cause of RA is currently unknown, although known risk factors include:\n",
      "The study is published in the Journal of Human Hypertension.\n"
     ]
    }
   ],
   "source": [
    "# As there's no subheadline for the first paragraph,\n",
    "# extract the first paragraph under <div class=\"css-1u22pos\"> tag\n",
    "for div in soup.find_all(\"div\", class_=\"css-1u22pos\"):\n",
    "    for p in div.find_all(\"p\"):\n",
    "        scraped_data.append(p.text.strip())\n",
    "        print(p.text.strip())"
   ]
  },
  {
   "cell_type": "code",
   "execution_count": null,
   "metadata": {},
   "outputs": [],
   "source": [
    "# Extract the other subheadlines and their text under: <div class=\"css-0\"> tag\n",
    "for div in soup.find_all(\"div\", class_=\"css-0\"):\n",
    "    for h2 in div.find_all(\"h2\"):\n",
    "        scraped_data.append(h2.text.strip())\n",
    "        print(h2.text.strip())\n",
    "    for p in div.find_all(\"p\"):\n",
    "        scraped_data.append(p.text.strip())\n",
    "        print(p.text.strip())"
   ]
  },
  {
   "cell_type": "code",
   "execution_count": 45,
   "metadata": {},
   "outputs": [],
   "source": [
    "# Put everything together\n",
    "scraped_data\n",
    "\n",
    "# Write the data to a file\n",
    "with open(\"sample_news.txt\", \"w\") as filehandle:\n",
    "    for listitem in scraped_data:\n",
    "        filehandle.write(\"%s\\n\" % listitem)"
   ]
  }
 ],
 "metadata": {
  "kernelspec": {
   "display_name": "Python 3",
   "language": "python",
   "name": "python3"
  },
  "language_info": {
   "codemirror_mode": {
    "name": "ipython",
    "version": 3
   },
   "file_extension": ".py",
   "mimetype": "text/x-python",
   "name": "python",
   "nbconvert_exporter": "python",
   "pygments_lexer": "ipython3",
   "version": "3.12.0"
  }
 },
 "nbformat": 4,
 "nbformat_minor": 2
}
