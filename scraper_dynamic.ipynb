{
 "cells": [
  {
   "cell_type": "code",
   "execution_count": 2,
   "metadata": {},
   "outputs": [
    {
     "name": "stdout",
     "output_type": "stream",
     "text": [
      "Defaulting to user installation because normal site-packages is not writeable\n",
      "Requirement already satisfied: beautifulsoup4 in /home/arbruiser/.local/lib/python3.10/site-packages (4.12.3)\n",
      "Requirement already satisfied: soupsieve>1.2 in /home/arbruiser/.local/lib/python3.10/site-packages (from beautifulsoup4) (2.5)\n",
      "Defaulting to user installation because normal site-packages is not writeable\n",
      "Requirement already satisfied: requests in /home/arbruiser/.local/lib/python3.10/site-packages (2.31.0)\n",
      "Requirement already satisfied: charset-normalizer<4,>=2 in /home/arbruiser/.local/lib/python3.10/site-packages (from requests) (2.1.1)\n",
      "Requirement already satisfied: idna<4,>=2.5 in /home/arbruiser/.local/lib/python3.10/site-packages (from requests) (3.4)\n",
      "Requirement already satisfied: urllib3<3,>=1.21.1 in /home/arbruiser/.local/lib/python3.10/site-packages (from requests) (1.26.13)\n",
      "Requirement already satisfied: certifi>=2017.4.17 in /home/arbruiser/.local/lib/python3.10/site-packages (from requests) (2022.12.7)\n",
      "Defaulting to user installation because normal site-packages is not writeable\n",
      "Collecting html5lib\n",
      "  Downloading html5lib-1.1-py2.py3-none-any.whl (112 kB)\n",
      "\u001b[2K     \u001b[90m━━━━━━━━━━━━━━━━━━━━━━━━━━━━━━━━━━━━━━━\u001b[0m \u001b[32m112.2/112.2 KB\u001b[0m \u001b[31m4.2 MB/s\u001b[0m eta \u001b[36m0:00:00\u001b[0m\n",
      "\u001b[?25hRequirement already satisfied: six>=1.9 in /usr/lib/python3/dist-packages (from html5lib) (1.16.0)\n",
      "Requirement already satisfied: webencodings in /home/arbruiser/.local/lib/python3.10/site-packages (from html5lib) (0.5.1)\n",
      "Installing collected packages: html5lib\n",
      "Successfully installed html5lib-1.1\n"
     ]
    }
   ],
   "source": [
    "# ! pip install beautifulsoup4\n",
    "# ! pip install requests\n",
    "# ! pip install html5lib"
   ]
  },
  {
   "cell_type": "code",
   "execution_count": 3,
   "metadata": {},
   "outputs": [
    {
     "ename": "FeatureNotFound",
     "evalue": "Couldn't find a tree builder with the features you requested: lxml. Do you need to install a parser library?",
     "output_type": "error",
     "traceback": [
      "\u001b[0;31m---------------------------------------------------------------------------\u001b[0m",
      "\u001b[0;31mFeatureNotFound\u001b[0m                           Traceback (most recent call last)",
      "Cell \u001b[0;32mIn[3], line 9\u001b[0m\n\u001b[1;32m      6\u001b[0m response \u001b[38;5;241m=\u001b[39m requests\u001b[38;5;241m.\u001b[39mget(url)\n\u001b[1;32m      8\u001b[0m \u001b[38;5;66;03m# Parse the page content\u001b[39;00m\n\u001b[0;32m----> 9\u001b[0m soup \u001b[38;5;241m=\u001b[39m \u001b[43mBeautifulSoup\u001b[49m\u001b[43m(\u001b[49m\u001b[43mresponse\u001b[49m\u001b[38;5;241;43m.\u001b[39;49m\u001b[43mtext\u001b[49m\u001b[43m,\u001b[49m\u001b[43m \u001b[49m\u001b[38;5;124;43m\"\u001b[39;49m\u001b[38;5;124;43mlxml\u001b[39;49m\u001b[38;5;124;43m\"\u001b[39;49m\u001b[43m)\u001b[49m\n\u001b[1;32m     11\u001b[0m \u001b[38;5;66;03m# soup\u001b[39;00m\n",
      "File \u001b[0;32m~/.local/lib/python3.10/site-packages/bs4/__init__.py:250\u001b[0m, in \u001b[0;36mBeautifulSoup.__init__\u001b[0;34m(self, markup, features, builder, parse_only, from_encoding, exclude_encodings, element_classes, **kwargs)\u001b[0m\n\u001b[1;32m    248\u001b[0m     builder_class \u001b[38;5;241m=\u001b[39m builder_registry\u001b[38;5;241m.\u001b[39mlookup(\u001b[38;5;241m*\u001b[39mfeatures)\n\u001b[1;32m    249\u001b[0m     \u001b[38;5;28;01mif\u001b[39;00m builder_class \u001b[38;5;129;01mis\u001b[39;00m \u001b[38;5;28;01mNone\u001b[39;00m:\n\u001b[0;32m--> 250\u001b[0m         \u001b[38;5;28;01mraise\u001b[39;00m FeatureNotFound(\n\u001b[1;32m    251\u001b[0m             \u001b[38;5;124m\"\u001b[39m\u001b[38;5;124mCouldn\u001b[39m\u001b[38;5;124m'\u001b[39m\u001b[38;5;124mt find a tree builder with the features you \u001b[39m\u001b[38;5;124m\"\u001b[39m\n\u001b[1;32m    252\u001b[0m             \u001b[38;5;124m\"\u001b[39m\u001b[38;5;124mrequested: \u001b[39m\u001b[38;5;132;01m%s\u001b[39;00m\u001b[38;5;124m. Do you need to install a parser library?\u001b[39m\u001b[38;5;124m\"\u001b[39m\n\u001b[1;32m    253\u001b[0m             \u001b[38;5;241m%\u001b[39m \u001b[38;5;124m\"\u001b[39m\u001b[38;5;124m,\u001b[39m\u001b[38;5;124m\"\u001b[39m\u001b[38;5;241m.\u001b[39mjoin(features))\n\u001b[1;32m    255\u001b[0m \u001b[38;5;66;03m# At this point either we have a TreeBuilder instance in\u001b[39;00m\n\u001b[1;32m    256\u001b[0m \u001b[38;5;66;03m# builder, or we have a builder_class that we can instantiate\u001b[39;00m\n\u001b[1;32m    257\u001b[0m \u001b[38;5;66;03m# with the remaining **kwargs.\u001b[39;00m\n\u001b[1;32m    258\u001b[0m \u001b[38;5;28;01mif\u001b[39;00m builder \u001b[38;5;129;01mis\u001b[39;00m \u001b[38;5;28;01mNone\u001b[39;00m:\n",
      "\u001b[0;31mFeatureNotFound\u001b[0m: Couldn't find a tree builder with the features you requested: lxml. Do you need to install a parser library?"
     ]
    }
   ],
   "source": [
    "import requests\n",
    "from bs4 import BeautifulSoup\n",
    "\n",
    "# The homepage is dynamic\n",
    "url = \"https://www.medicalnewstoday.com/\"\n",
    "response = requests.get(url)\n",
    "\n",
    "# Parse the page content\n",
    "soup = BeautifulSoup(response.text, \"lxml\")\n",
    "\n",
    "# soup"
   ]
  },
  {
   "cell_type": "code",
   "execution_count": 29,
   "metadata": {},
   "outputs": [],
   "source": [
    "# Add an empty list to hold our data\n",
    "scraped_data = []\n",
    "# Add url to scraped_data\n",
    "scraped_data.append(url)"
   ]
  },
  {
   "cell_type": "code",
   "execution_count": 30,
   "metadata": {},
   "outputs": [],
   "source": [
    "# with open(\"dynamic_reference.txt\", \"w\") as f:\n",
    "#     f.write(soup.prettify())"
   ]
  },
  {
   "cell_type": "code",
   "execution_count": 31,
   "metadata": {},
   "outputs": [
    {
     "name": "stdout",
     "output_type": "stream",
     "text": [
      "2023 in medicine: Artificial sweeteners, colon cancer, and male birth…\n",
      "How much should you exercise for a longer, healthier life? Study…\n",
      "Why binge drinking is more dangerous for your liver than daily alcohol…\n",
      "Managing chronic inflammation with psoriasis\n",
      "Weight loss rarely leads to type 2 diabetes remission in real-world…\n",
      "What causes brain cell death in Alzheimer’s disease?\n",
      "Higher antioxidant intake may lower risk of low back pain in women\n",
      "How a new tool can help determine a person's likelihood of developing…\n",
      "How unexpected weight loss can sometimes be an indicator of cancer\n",
      "Migraine linked to increased risk of IBD in new study\n",
      "Lack of exercise in free time may increase risk of cardiovascular…\n",
      "Rheumatoid arthritis: 30-minute session of exercise may help lower…\n",
      "Why adults who develop type 1 diabetes are being diagnosed with type 2…\n",
      "Alzheimer's treatments: The risks of monoclonal antibodies may…\n",
      "2023 in medicine: Artificial sweeteners, colon cancer, and male birth control\n",
      "In Conversation: Why exercise is key to living a long and healthy life\n",
      "In Conversation: What do we know about the gut microbiome in IBD?\n",
      "In Conversation: My podcast changed me\n",
      "Through My Eyes: Stem cell donation\n",
      "Caring for a parent who has bipolar disorder: How I learned to…\n",
      "Through My Eyes: ADHD and avoidant restrictive eating\n",
      "Through My Eyes: My friend, Migraine\n",
      "Through My Eyes: Empowering my son to negotiate the 'autism cliff,'…\n",
      "Through My Eyes: Why endometriosis almost killed me\n",
      "Could dark chocolate have a blood pressure-lowering effect?\n",
      "Why dancing may be better for weight loss than other forms of exercise\n",
      "Colorectal cancer deaths on the rise among young adults: Experts…\n",
      "Drinking fruit juice daily may lead to weight gain, particularly in…\n",
      "Combining erectile dysfunction and chest pain drugs may be bad for the…\n",
      "Ultrasound approach could deliver Alzheimer's drug straight to the…\n",
      "Risk of heart and kidney disease is lower in people with type 2…\n",
      "Energy drinks may cause ADHD, anxiety, depression among children…\n",
      "How an extra 15 to 30 minutes of exercise per day can offset the…\n",
      "Could cutting calories help slow brain aging?\n",
      "Medical Myths: IBS myths and facts\n",
      "Medical Myths: Endometriosis facts vs. fiction\n",
      "Medical Myths: All about stroke\n",
      "Medical Myths: All about COPD\n",
      "Medical Myths: All about lung cancer\n",
      "Medical Myths: All about IBD\n",
      "How much protein do you need to build muscle?\n",
      "Not all plant-based diets are the same: Junk veggie food and its…\n",
      "Is it better to eat several small meals or fewer larger ones?\n",
      "Intermittent fasting: Is it all it's cracked up to be?\n",
      "Did the COVID-19 pandemic lead to changes in our personality traits?\n",
      "Passion, exercise, and meaningful relationships are a boon to brain…\n",
      "COVID-19: Did lockdown help or hinder our creativity?\n",
      "Pandemic impact on mental health: A global overview\n",
      "How much should I weigh for my height and age?\n",
      "How to naturally lose weight fast\n",
      "12 Home Remedies for Stomach Pain\n",
      "Eighteen ways to reduce bloating\n",
      "Anti-inflammatory diet: What to know\n",
      "18 best foods for high blood pressure\n",
      "What can I do to make my cough go away naturally?\n",
      "What is the average baby weight by month?\n",
      "What days can you get pregnant?\n",
      "What are the worst fruits for someone with diabetes?\n",
      "What does a right-sided headache mean?\n",
      "13 home remedies for constipation\n",
      "What is causing my rash? 71 possible causes\n",
      "Six ways to do intermittent fasting\n",
      "What foods are high in protein?\n",
      "Everything you need to know about anxiety medications\n",
      "How to get rid of trapped gas\n",
      "The link between napping and Alzheimer’s\n",
      "What causes upper stomach pain?\n",
      "15 natural ways to lower your blood pressure\n"
     ]
    }
   ],
   "source": [
    "for a in soup.find_all(\"a\", class_=\"css-1xlgwie\"):  # all the subtitles\n",
    "    print(a.text)\n",
    "    scraped_data.append(a.text)"
   ]
  },
  {
   "cell_type": "code",
   "execution_count": 32,
   "metadata": {},
   "outputs": [],
   "source": [
    "with open(\"sample_dynamic.txt\", \"w\") as f:  # write to file\n",
    "    for listitem in scraped_data:\n",
    "        f.write(\"%s\\n\" % listitem)"
   ]
  }
 ],
 "metadata": {
  "kernelspec": {
   "display_name": "Python 3 (ipykernel)",
   "language": "python",
   "name": "python3"
  },
  "language_info": {
   "codemirror_mode": {
    "name": "ipython",
    "version": 3
   },
   "file_extension": ".py",
   "mimetype": "text/x-python",
   "name": "python",
   "nbconvert_exporter": "python",
   "pygments_lexer": "ipython3",
   "version": "3.11.6"
  }
 },
 "nbformat": 4,
 "nbformat_minor": 4
}
