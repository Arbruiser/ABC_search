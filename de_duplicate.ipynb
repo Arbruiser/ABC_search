{
 "cells": [
  {
   "cell_type": "code",
   "execution_count": 1,
   "metadata": {},
   "outputs": [],
   "source": [
    "with open(\"medical_document.txt\", \"r\") as f:\n",
    "    content = f.readlines()"
   ]
  },
  {
   "cell_type": "code",
   "execution_count": 2,
   "metadata": {},
   "outputs": [],
   "source": [
    "# check if there's duplicate lines\n",
    "# remove duplicate lines and reserve the order and write to a new file\n",
    "seen = set()\n",
    "with open(\"medical_document_no_dup.txt\", \"w\") as f:\n",
    "    for line in content:\n",
    "        # if the line only contains \"\\n\", remove the line\n",
    "        if line == \"\\n\":\n",
    "            continue\n",
    "        if line not in seen:\n",
    "            f.write(line)\n",
    "            seen.add(line)"
   ]
  },
  {
   "cell_type": "code",
   "execution_count": 3,
   "metadata": {},
   "outputs": [],
   "source": [
    "# if the https link is at the beginning of a line, add a newline character before it\n",
    "# but if it is the first line, skip it\n",
    "with open(\"medical_document_no_dup.txt\", \"r\") as f:\n",
    "    content = f.readlines()\n",
    "with open(\"medical_document.txt\", \"w\") as f:\n",
    "    for line in content:\n",
    "        if line.startswith(\"https://\"):\n",
    "            f.write(\"\\n\" + line)\n",
    "        else:\n",
    "            f.write(line)\n",
    "\n",
    "\n",
    "\n"
   ]
  },
  {
   "cell_type": "code",
   "execution_count": 4,
   "metadata": {},
   "outputs": [],
   "source": [
    "# # remove the first line if it is empty\n",
    "with open(\"medical_document.txt\", \"r\") as f:\n",
    "    content = f.readlines() \n",
    "if content[0] == \"\\n\":\n",
    "    with open(\"medical_document.txt\", \"w\") as f:\n",
    "        for line in content[1:]:\n",
    "            f.write(line)"
   ]
  },
  {
   "cell_type": "code",
   "execution_count": 5,
   "metadata": {},
   "outputs": [
    {
     "name": "stdout",
     "output_type": "stream",
     "text": [
      "62\n"
     ]
    }
   ],
   "source": [
    "count = 0 \n",
    "with open(\"medical_document_no_dup.txt\", \"r\") as f:\n",
    "    content = f.readlines()\n",
    "    for line in content:\n",
    "        if line.startswith(\"https://\"):\n",
    "            count += 1\n",
    "\n",
    "print(count)"
   ]
  }
 ],
 "metadata": {
  "kernelspec": {
   "display_name": "Python 3",
   "language": "python",
   "name": "python3"
  },
  "language_info": {
   "codemirror_mode": {
    "name": "ipython",
    "version": 3
   },
   "file_extension": ".py",
   "mimetype": "text/x-python",
   "name": "python",
   "nbconvert_exporter": "python",
   "pygments_lexer": "ipython3",
   "version": "3.11.6"
  }
 },
 "nbformat": 4,
 "nbformat_minor": 2
}
